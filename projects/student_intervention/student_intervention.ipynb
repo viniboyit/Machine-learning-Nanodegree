{
 "cells": [
  {
   "cell_type": "markdown",
   "metadata": {},
   "source": [
    "# Machine Learning Engineer Nanodegree\n",
    "## Supervised Learning\n",
    "## Project 2: Building a Student Intervention System"
   ]
  },
  {
   "cell_type": "markdown",
   "metadata": {},
   "source": [
    "Welcome to the second project of the Machine Learning Engineer Nanodegree! In this notebook, some template code has already been provided for you, and it will be your job to implement the additional functionality necessary to successfully complete this project. Sections that begin with **'Implementation'** in the header indicate that the following block of code will require additional functionality which you must provide. Instructions will be provided for each section and the specifics of the implementation are marked in the code block with a `'TODO'` statement. Please be sure to read the instructions carefully!\n",
    "\n",
    "In addition to implementing code, there will be questions that you must answer which relate to the project and your implementation. Each section where you will answer a question is preceded by a **'Question X'** header. Carefully read each question and provide thorough answers in the following text boxes that begin with **'Answer:'**. Your project submission will be evaluated based on your answers to each of the questions and the implementation you provide.  \n",
    "\n",
    ">**Note:** Code and Markdown cells can be executed using the **Shift + Enter** keyboard shortcut. In addition, Markdown cells can be edited by typically double-clicking the cell to enter edit mode."
   ]
  },
  {
   "cell_type": "markdown",
   "metadata": {},
   "source": [
    "### Question 1 - Classification vs. Regression\n",
    "*Your goal for this project is to identify students who might need early intervention before they fail to graduate. Which type of supervised learning problem is this, classification or regression? Why?*"
   ]
  },
  {
   "cell_type": "markdown",
   "metadata": {},
   "source": [
    "**Answer: **<br>\n",
    "Classification. The students will be classified as either **Yes**, the student needs early intervention; or **No**,the student doesn't need intervention. "
   ]
  },
  {
   "cell_type": "markdown",
   "metadata": {},
   "source": [
    "## Exploring the Data\n",
    "Run the code cell below to load necessary Python libraries and load the student data. Note that the last column from this dataset, `'passed'`, will be our target label (whether the student graduated or didn't graduate). All other columns are features about each student."
   ]
  },
  {
   "cell_type": "code",
   "execution_count": 1,
   "metadata": {
    "collapsed": false,
    "scrolled": true
   },
   "outputs": [
    {
     "name": "stdout",
     "output_type": "stream",
     "text": [
      "Student data read successfully!\n"
     ]
    }
   ],
   "source": [
    "# Import libraries\n",
    "import numpy as np\n",
    "import pandas as pd\n",
    "from time import time\n",
    "from sklearn.metrics import f1_score\n",
    "\n",
    "# Read student data\n",
    "student_data = pd.read_csv(\"student-data.csv\")\n",
    "print \"Student data read successfully!\""
   ]
  },
  {
   "cell_type": "markdown",
   "metadata": {},
   "source": [
    "### Implementation: Data Exploration\n",
    "Let's begin by investigating the dataset to determine how many students we have information on, and learn about the graduation rate among these students. In the code cell below, you will need to compute the following:\n",
    "- The total number of students, `n_students`.\n",
    "- The total number of features for each student, `n_features`.\n",
    "- The number of those students who passed, `n_passed`.\n",
    "- The number of those students who failed, `n_failed`.\n",
    "- The graduation rate of the class, `grad_rate`, in percent (%).\n"
   ]
  },
  {
   "cell_type": "code",
   "execution_count": 2,
   "metadata": {
    "collapsed": false,
    "scrolled": true
   },
   "outputs": [
    {
     "name": "stdout",
     "output_type": "stream",
     "text": [
      "Total number of students: 395\n",
      "Number of features: 30\n",
      "Number of students who passed: 265\n",
      "Number of students who failed: 130\n",
      "Graduation rate of the class: 67.09%\n"
     ]
    }
   ],
   "source": [
    "# TODO: Calculate number of students\n",
    "n_students = student_data.shape[0]\n",
    "\n",
    "# TODO: Calculate number of features\n",
    "n_features = student_data.shape[1] - 1\n",
    "\n",
    "# TODO: Calculate passing students\n",
    "n_passed = sum(student_data['passed'] == 'yes')\n",
    "\n",
    "# TODO: Calculate failing students\n",
    "n_failed = sum(student_data['passed'] == 'no')\n",
    "\n",
    "# TODO: Calculate graduation rate\n",
    "grad_rate = 1.0 * n_passed / (n_passed + n_failed) * 100\n",
    "\n",
    "# Print the results\n",
    "print \"Total number of students: {}\".format(n_students)\n",
    "print \"Number of features: {}\".format(n_features)\n",
    "print \"Number of students who passed: {}\".format(n_passed)\n",
    "print \"Number of students who failed: {}\".format(n_failed)\n",
    "print \"Graduation rate of the class: {:.2f}%\".format(grad_rate)"
   ]
  },
  {
   "cell_type": "markdown",
   "metadata": {},
   "source": [
    "## Preparing the Data\n",
    "In this section, we will prepare the data for modeling, training and testing.\n",
    "\n",
    "### Identify feature and target columns\n",
    "It is often the case that the data you obtain contains non-numeric features. This can be a problem, as most machine learning algorithms expect numeric data to perform computations with.\n",
    "\n",
    "Run the code cell below to separate the student data into feature and target columns to see if any features are non-numeric."
   ]
  },
  {
   "cell_type": "code",
   "execution_count": 3,
   "metadata": {
    "collapsed": false
   },
   "outputs": [
    {
     "name": "stdout",
     "output_type": "stream",
     "text": [
      "Feature columns:\n",
      "['school', 'sex', 'age', 'address', 'famsize', 'Pstatus', 'Medu', 'Fedu', 'Mjob', 'Fjob', 'reason', 'guardian', 'traveltime', 'studytime', 'failures', 'schoolsup', 'famsup', 'paid', 'activities', 'nursery', 'higher', 'internet', 'romantic', 'famrel', 'freetime', 'goout', 'Dalc', 'Walc', 'health', 'absences']\n",
      "\n",
      "Target column: passed\n",
      "\n",
      "Feature values:\n",
      "  school sex  age address famsize Pstatus  Medu  Fedu     Mjob      Fjob  \\\n",
      "0     GP   F   18       U     GT3       A     4     4  at_home   teacher   \n",
      "1     GP   F   17       U     GT3       T     1     1  at_home     other   \n",
      "2     GP   F   15       U     LE3       T     1     1  at_home     other   \n",
      "3     GP   F   15       U     GT3       T     4     2   health  services   \n",
      "4     GP   F   16       U     GT3       T     3     3    other     other   \n",
      "\n",
      "    ...    higher internet  romantic  famrel  freetime goout Dalc Walc health  \\\n",
      "0   ...       yes       no        no       4         3     4    1    1      3   \n",
      "1   ...       yes      yes        no       5         3     3    1    1      3   \n",
      "2   ...       yes      yes        no       4         3     2    2    3      3   \n",
      "3   ...       yes      yes       yes       3         2     2    1    1      5   \n",
      "4   ...       yes       no        no       4         3     2    1    2      5   \n",
      "\n",
      "  absences  \n",
      "0        6  \n",
      "1        4  \n",
      "2       10  \n",
      "3        2  \n",
      "4        4  \n",
      "\n",
      "[5 rows x 30 columns]\n"
     ]
    }
   ],
   "source": [
    "# Extract feature columns\n",
    "feature_cols = list(student_data.columns[:-1])\n",
    "\n",
    "# Extract target column 'passed'\n",
    "target_col = student_data.columns[-1] \n",
    "\n",
    "# Show the list of columns\n",
    "print \"Feature columns:\\n{}\".format(feature_cols)\n",
    "print \"\\nTarget column: {}\".format(target_col)\n",
    "\n",
    "# Separate the data into feature data and target data (X_all and y_all, respectively)\n",
    "X_all = student_data[feature_cols]\n",
    "y_all = student_data[target_col]\n",
    "\n",
    "# Show the feature information by printing the first five rows\n",
    "print \"\\nFeature values:\"\n",
    "print X_all.head()"
   ]
  },
  {
   "cell_type": "markdown",
   "metadata": {},
   "source": [
    "### Preprocess Feature Columns\n",
    "\n",
    "As you can see, there are several non-numeric columns that need to be converted! Many of them are simply `yes`/`no`, e.g. `internet`. These can be reasonably converted into `1`/`0` (binary) values.\n",
    "\n",
    "Other columns, like `Mjob` and `Fjob`, have more than two values, and are known as _categorical variables_. The recommended way to handle such a column is to create as many columns as possible values (e.g. `Fjob_teacher`, `Fjob_other`, `Fjob_services`, etc.), and assign a `1` to one of them and `0` to all others.\n",
    "\n",
    "These generated columns are sometimes called _dummy variables_, and we will use the [`pandas.get_dummies()`](http://pandas.pydata.org/pandas-docs/stable/generated/pandas.get_dummies.html?highlight=get_dummies#pandas.get_dummies) function to perform this transformation. Run the code cell below to perform the preprocessing routine discussed in this section."
   ]
  },
  {
   "cell_type": "code",
   "execution_count": 4,
   "metadata": {
    "collapsed": false
   },
   "outputs": [
    {
     "name": "stdout",
     "output_type": "stream",
     "text": [
      "Processed feature columns (48 total features):\n",
      "['school_GP', 'school_MS', 'sex_F', 'sex_M', 'age', 'address_R', 'address_U', 'famsize_GT3', 'famsize_LE3', 'Pstatus_A', 'Pstatus_T', 'Medu', 'Fedu', 'Mjob_at_home', 'Mjob_health', 'Mjob_other', 'Mjob_services', 'Mjob_teacher', 'Fjob_at_home', 'Fjob_health', 'Fjob_other', 'Fjob_services', 'Fjob_teacher', 'reason_course', 'reason_home', 'reason_other', 'reason_reputation', 'guardian_father', 'guardian_mother', 'guardian_other', 'traveltime', 'studytime', 'failures', 'schoolsup', 'famsup', 'paid', 'activities', 'nursery', 'higher', 'internet', 'romantic', 'famrel', 'freetime', 'goout', 'Dalc', 'Walc', 'health', 'absences']\n"
     ]
    }
   ],
   "source": [
    "def preprocess_features(X):\n",
    "    ''' Preprocesses the student data and converts non-numeric binary variables into\n",
    "        binary (0/1) variables. Converts categorical variables into dummy variables. '''\n",
    "    \n",
    "    # Initialize new output DataFrame\n",
    "    output = pd.DataFrame(index = X.index)\n",
    "\n",
    "    # Investigate each feature column for the data\n",
    "    for col, col_data in X.iteritems():\n",
    "        \n",
    "        # If data type is non-numeric, replace all yes/no values with 1/0\n",
    "        if col_data.dtype == object:\n",
    "            col_data = col_data.replace(['yes', 'no'], [1, 0])\n",
    "\n",
    "        # If data type is categorical, convert to dummy variables\n",
    "        if col_data.dtype == object:\n",
    "            # Example: 'school' => 'school_GP' and 'school_MS'\n",
    "            col_data = pd.get_dummies(col_data, prefix = col)  \n",
    "        \n",
    "        # Collect the revised columns\n",
    "        output = output.join(col_data)\n",
    "    \n",
    "    return output\n",
    "\n",
    "X_all = preprocess_features(X_all)\n",
    "print \"Processed feature columns ({} total features):\\n{}\".format(len(X_all.columns), list(X_all.columns))"
   ]
  },
  {
   "cell_type": "markdown",
   "metadata": {},
   "source": [
    "### Implementation: Training and Testing Data Split\n",
    "So far, we have converted all _categorical_ features into numeric values. For the next step, we split the data (both features and corresponding labels) into training and test sets. In the following code cell below, you will need to implement the following:\n",
    "- Randomly shuffle and split the data (`X_all`, `y_all`) into training and testing subsets.\n",
    "  - Use 300 training points (approximately 75%) and 95 testing points (approximately 25%).\n",
    "  - Set a `random_state` for the function(s) you use, if provided.\n",
    "  - Store the results in `X_train`, `X_test`, `y_train`, and `y_test`."
   ]
  },
  {
   "cell_type": "code",
   "execution_count": 5,
   "metadata": {
    "collapsed": false
   },
   "outputs": [
    {
     "name": "stdout",
     "output_type": "stream",
     "text": [
      "Training set has 300 samples.\n",
      "Testing set has 95 samples.\n"
     ]
    }
   ],
   "source": [
    "# TODO: Import any additional functionality you may need here\n",
    "from sklearn.cross_validation import train_test_split\n",
    "\n",
    "# TODO: Set the number of training points\n",
    "num_train = 300\n",
    "\n",
    "# Set the number of testing points\n",
    "num_test = X_all.shape[0] - num_train\n",
    "\n",
    "# TODO: Shuffle and split the dataset into the number of training and testing points above\n",
    "X_train, X_test, y_train, y_test = train_test_split(X_all, y_all, train_size=num_train, random_state=0)\n",
    "\n",
    "# Show the results of the split\n",
    "print \"Training set has {} samples.\".format(X_train.shape[0])\n",
    "print \"Testing set has {} samples.\".format(X_test.shape[0])"
   ]
  },
  {
   "cell_type": "markdown",
   "metadata": {},
   "source": [
    "## Training and Evaluating Models\n",
    "In this section, you will choose 3 supervised learning models that are appropriate for this problem and available in `scikit-learn`. You will first discuss the reasoning behind choosing these four models by considering what you know about the data and each model's strengths and weaknesses. You will then fit the model to varying sizes of training data (100 data points, 200 data points, and 300 data points) and measure the F<sub>1</sub> score. You will need to produce four tables (one for each model) that shows the training set size, training time, prediction time, F<sub>1</sub> score on the training set, and F<sub>1</sub> score on the testing set.\n",
    "\n",
    "**The following supervised learning models are currently available in** [`scikit-learn`](http://scikit-learn.org/stable/supervised_learning.html) **that you may choose from:**\n",
    "- Gaussian Naive Bayes (GaussianNB)\n",
    "- Decision Trees\n",
    "- Ensemble Methods (Bagging, AdaBoost, Random Forest, Gradient Boosting)\n",
    "- K-Nearest Neighbors (KNeighbors)\n",
    "- Stochastic Gradient Descent (SGDC)\n",
    "- Support Vector Machines (SVM)\n",
    "- Logistic Regression"
   ]
  },
  {
   "cell_type": "markdown",
   "metadata": {},
   "source": [
    "### Question 2 - Model Application\n",
    "*List four supervised learning models that are appropriate for this problem. For each model chosen*\n",
    "- Describe one real-world application in industry where the model can be applied. *(You may need to do a small bit of research for this — give references!)* \n",
    "- What are the strengths of the model; when does it perform well? \n",
    "- What are the weaknesses of the model; when does it perform poorly?\n",
    "- What makes this model a good candidate for the problem, given what you know about the data?"
   ]
  },
  {
   "cell_type": "markdown",
   "metadata": {},
   "source": [
    "Let's take a look at supervised learning alogrithms that are both applicable and non-applicable to this problem."
   ]
  },
  {
   "cell_type": "markdown",
   "metadata": {},
   "source": [
    "**Answer: **<br>\n",
    "\n",
    "**Gaussian Naive Bayes Classifier (NB)**\n",
    "\n",
    "**Overview**:<br>\n",
    "Naive Bayes classifies samples by applying Bayes’ theorem with the “naive” assumption of independence between every pair of features. The time and space complexity of Naive Bayes Classifier are both O(m\\*n) where m is the number of features and n is the number of samples. Naive Bayes classification algorithm calculates P(y|x) for all the features of all the samples therefore needs m\\*n steps and memory cells. One remarkable application of Naive Bayes classifier is text classification, such as filtering spams based on a bag-of-words model. \n",
    "\n",
    "**Pros**:<br>\n",
    "- Easy implementation.\n",
    "- Low computation cost.\n",
    "- Low sensitivity to irrelevant data.\n",
    "\n",
    "**Cons**<sup>[1]</sup>:<br>\n",
    "- Intrinsic weakness due to the assumption that all features are idependent from each other which may lead to unsatisfying classification reasult for combination of features.\n",
    "- Can be fooled by zero frequencies<sup>[4]</sup>.\n",
    "\n",
    "**Why Chosen**:<br>\n",
    "For this assignment, a quick Gaussian Naive Bayes classifier is chosen as a baseline case for the classification problem.\n",
    "\n",
    "[1][Quora answer](https://www.quora.com/Classification-machine-learning-When-should-I-use-a-K-NN-classifier-over-a-Naive-Bayes-classifier)\n",
    "\n",
    "---\n",
    "**Support Vector Machines Classifier (SVM)**\n",
    "\n",
    "**Overview**: <br>\n",
    "SVM classifies samples by a separating hyperplane. It is flexible with non-traditional data input, eg. string, which makes it versatile in many applications, such as, text classification, image classification, bioinformatics (protein classification, cancer classification) and hand-written character classification. The time and space complexity of SVM classifier are both O(n<sup>3</sup>) where n is the sample size<sup>[2]</sup>.\n",
    "\n",
    "**Pros**<sup>[3,4]</sup>:<br>\n",
    "- Effective in high dimensional spaces.\n",
    "- Still effective in cases where number of dimensions is greater than the number of samples.\n",
    "- Uses a subset of training points in the decision function (called support vectors), so it is also memory efficient.\n",
    "- Versatile: different Kernel functions can be specified for the decision function. Common kernels are provided, but it is also possible to specify custom kernels.\n",
    "- Overfitting can be controlled by using soft margin.\n",
    "- No local minima in doing the convex optimization.\n",
    "\n",
    "**Cons**<sup>[3]</sup>:<br>\n",
    "- If the number of features is much greater than the number of samples, the method is likely to give poor performances.\n",
    "- SVMs do not directly provide probability estimates, these are calculated using an expensive five-fold cross-validation.\n",
    "- Sensitive to noisy (mis-labeled) data.\n",
    "- The classification results can be very sensitive to the selection of kernel which makes the choice of kernel crucial.\n",
    "- Poor performance on multiclass classification.\n",
    "- Poor performance on highly skewed/imbalanced data sets.\n",
    "\n",
    "**Why Chosen**:<br>\n",
    "Considering the target dataset is relatively small, the cost of computation is not a crucial factor, hence SVM is worth trying.\n",
    "\n",
    "[2][Core Vector Machines: Fast SVM Training on Very Large Data Sets](http://machinelearning.wustl.edu/mlpapers/paper_files/TsangKC05.pdf)<br>\n",
    "[3][Introduction to Support Vector Machines](http://www.cs.rutgers.edu/~mlittman/courses/ml04/svm.pdf)<br>\n",
    "[4][Support Vector Machines by Andrew W. Moore](http://www.autonlab.org/tutorials/svm15.pdf)<br>\n",
    "\n",
    "---\n",
    "**K-Nearest Neighbors Classifier (KNN)**<br>\n",
    "\n",
    "**Overview**:<br>\n",
    "KNN is a non-parametric, instance-based classifier that stores all available cases and classifies new cases based on a similarity measure (e.g., distance functions)<sup>[5]</sup>. With no training involved, the lazy classifier is powerful in many applications, especially in low-dimensional datasets, computer security(intrusion detection), fault detection in semiconducter manufacturing, video content retrieval, gene expression, protein-protein interaction and 3D structure prediction<sup>[6]</sup>. The complexity of KNN Classifier is O(n<sup>2</sup>) where n is the number of data points. \n",
    "\n",
    "**Pros**:<br>\n",
    "- Easy implementation.\n",
    "- Naturally handles multiclass classification and regression.\n",
    "\n",
    "**Cons**<sup>[1,6]</sup>:<br>\n",
    "- Expensive and slow to predict new instances.\n",
    "- Must defien a meaningful distance metric function.\n",
    "- Performs poorly on high-dimensionality datases.\n",
    "- Have to tune k.\n",
    "- Doesn't know which attributes are more important\n",
    "\n",
    "**Why Chosen**:<br>\n",
    "Due to our small size dataset, we can try KNN with a quick and easy implementaion.\n",
    "\n",
    "[5][K Nearest Neighbors - Classification](http://www.saedsayad.com/k_nearest_neighbors.htm)<br>\n",
    "[6][Machine Learning Algorithm Cheat Sheet](http://www.lauradhamilton.com/machine-learning-algorithm-cheat-sheet)<br>\n",
    "\n",
    "---\n",
    "**Decision Trees Classifier (DT)**<br>\n",
    "\n",
    "**Overview**:<br>\n",
    "DT classifies samples with a tree-like model based on a set of if-then-else decision rules. The standard Decision Tree classifier has a time complexity of O(nm<sup>3</sup>) and a space complexity of O(n) where n is the number of samples and m is the number of features<sup>[7]</sup>. Applications of DT include: star classification, medical diagnosis, credit risk analysis.\n",
    "\n",
    "**Pros**<sup>[7]</sup>:<br>\n",
    "- Easy to understand and interpret. \n",
    "- Fast and accurate.\n",
    "- Robust to noise and missing values.\n",
    "\n",
    "**Cons**:<br>\n",
    "- Doesn't treat well non-rectangular regions.\n",
    "- Prone to overfitting. \n",
    "\n",
    "**Why Chosen**:<br>\n",
    "Let's also try DT to get an overall comparison of single estimators.\n",
    "\n",
    "[7][A Fast Decision Tree Learning Algorithm](http://aaaipress.org/Papers/AAAI/2006/AAAI06-080.pdf)<br>\n",
    "\n",
    "---\n",
    "**Ensemble Methods**<br>\n",
    "\n",
    "**Overview**:<br>\n",
    "Ensemble methods construct a set of classifiers and then classify new data points by taking a (weighted) vote of their predictions<sup>[8]</sup>. It performaces well on a variety of applications, such as distributed computing, privacy-preserving applications, large-scale data with reusable models and multiple sources of data.\n",
    "\n",
    "**Pros**<sup>[9]</sup>:<br>\n",
    "- Improves accuracy and robustness over single model methods.\n",
    "- A complex problem can be decomposed into multiple sub-problems that are easier to understand and solve (divide-and-conquer approach).\n",
    "\n",
    "**Cons**:<br>\n",
    "- More complex than single estimator.\n",
    "- Prone to overfitting.\n",
    "- High cost of computation.\n",
    "\n",
    "**Why Not Chosen**:<br>\n",
    "Sample size is too small.\n",
    "\n",
    "[8][Ensemble Methods in Machine Learning](http://web.engr.oregonstate.edu/~tgd/publications/mcs-ensembles.pdf)<br>\n",
    "[9][On the Power of Ensemble: Supervised and Unsupervised Methods Reconciled](http://ews.uiuc.edu/~jinggao3/sdm10ensemble.htm)\n",
    "\n",
    "---\n",
    "**Stochastic Gradient Descent Classifier (SGD)**<br>\n",
    "\n",
    "**Overview**<sup>[10]</sup>:<br>\n",
    "SGD classifies samples by minimizing an objective function, often a loss function, by iteration. SGD has been successfully applied to large-scale and sparse machine learning problems often encountered in text classification and natural language processing.\n",
    "\n",
    "**Pros**:<br>\n",
    "- Scales well with sample size larger than 10<sup>5</sup>.\n",
    "- Efficiency.\n",
    "\n",
    "**Cons**:<br>\n",
    "- Requires a number of hyperparameters such as the regularization parameter and the number of iterations.\n",
    "- Sensitive to feature scaling.\n",
    "\n",
    "**Why Not Chosen**:<br>\n",
    "Sample size is too small.\n",
    "\n",
    "[10][scikit-learn: 1.5. Stochastic Gradient Descent](http://scikit-learn.org/stable/modules/sgd.html)<br>"
   ]
  },
  {
   "cell_type": "markdown",
   "metadata": {},
   "source": [
    "### Setup\n",
    "Run the code cell below to initialize four helper functions which you can use for training and testing the four supervised learning models you've chosen above. The functions are as follows:\n",
    "- `train_classifier` - takes as input a classifier and training data and fits the classifier to the data.\n",
    "- `predict_labels` - takes as input a fit classifier, features, and a target labeling and makes predictions using the F<sub>1</sub> score.\n",
    "- `train_predict` - takes as input a classifier, and the training and testing data, and performs `train_clasifier` and `predict_labels`.\n",
    " - This function will report the F<sub>1</sub> score for both the training and testing data separately."
   ]
  },
  {
   "cell_type": "code",
   "execution_count": 6,
   "metadata": {
    "collapsed": false
   },
   "outputs": [],
   "source": [
    "def train_classifier(clf, X_train, y_train):\n",
    "    ''' Fits a classifier to the training data. '''\n",
    "    \n",
    "    # Start the clock, train the classifier, then stop the clock\n",
    "    start = time()\n",
    "    clf.fit(X_train, y_train)\n",
    "    end = time()\n",
    "    \n",
    "    # Print the results\n",
    "    # print \"Trained model in {:.4f} seconds\".format(end - start)\n",
    "    return end - start\n",
    "\n",
    "    \n",
    "def predict_labels(clf, features, target):\n",
    "    ''' Makes predictions using a fit classifier based on F1 score. '''\n",
    "    \n",
    "    # Start the clock, make predictions, then stop the clock\n",
    "    start = time()\n",
    "    y_pred = clf.predict(features)\n",
    "    end = time()\n",
    "\n",
    "    # Print and return results\n",
    "    # print \"Made predictions in {:.4f} seconds.\".format(end - start)\n",
    "    return (end - start), f1_score(target.values, y_pred, pos_label='yes')\n",
    "\n",
    "\n",
    "def train_predict(clf, X_train, y_train, X_test, y_test):\n",
    "    ''' Train and predict using a classifer based on F1 score. '''\n",
    "    \n",
    "    # Indicate the classifier and the training set size\n",
    "    # print \"Training a {} using a training set size of {}. . .\".format(clf.__class__.__name__, len(X_train))\n",
    "    \n",
    "    # Train the classifier\n",
    "    training_time = train_classifier(clf, X_train, y_train)\n",
    "    \n",
    "    # Print the results of prediction for both training and testing\n",
    "    training_f1 = predict_labels(clf, X_train, y_train)[1]\n",
    "    predict_time, test_f1 = predict_labels(clf, X_test, y_test)\n",
    "    # print \"F1 score for training set: {:.4f}.\".format(training_f1)\n",
    "    # print \"F1 score for test set: {:.4f}.\".format(test_f1)\n",
    "    return training_time, predict_time, training_f1, test_f1                          "
   ]
  },
  {
   "cell_type": "markdown",
   "metadata": {},
   "source": [
    "### Implementation: Model Performance Metrics\n",
    "With the predefined functions above, you will now import the four supervised learning models of your choice and run the `train_predict` function for each one. Remember that you will need to train and predict on each classifier for four different training set sizes: 100, 200, and 300. Hence, you should expect to have 12 different outputs below — 3 for each model using the varying training set sizes. In the following code cell, you will need to implement the following:\n",
    "- Import the four supervised learning models you've discussed in the previous section.\n",
    "- Initialize the four models and store them in `clf_A`, `clf_B`, `clf_C` and `clf_D`.\n",
    " - Use a `random_state` for each model you use, if provided.\n",
    " - **Note:** Use the default settings for each model — you will tune one specific model in a later section.\n",
    "- Create the different training set sizes to be used to train each model.\n",
    " - *Do not reshuffle and resplit the data! The new training points should be drawn from `X_train` and `y_train`.*\n",
    "- Fit each model with each training set size and make predictions on the test set (9 in total).  \n",
    "**Note:** Four tables are provided after the following code cell which can be used to store your results."
   ]
  },
  {
   "cell_type": "code",
   "execution_count": 7,
   "metadata": {
    "collapsed": false,
    "scrolled": true
   },
   "outputs": [
    {
     "name": "stdout",
     "output_type": "stream",
     "text": [
      "GaussianNB\n",
      "(0.0013718605041503906, 0.00023794174194335938, 0.84671532846715336, 0.7142857142857143)\n",
      "(0.000759124755859375, 0.00021910667419433594, 0.8014184397163121, 0.75912408759124084)\n",
      "(0.0007431507110595703, 0.00027108192443847656, 0.80882352941176461, 0.75)\n",
      "SVC\n",
      "(0.001138925552368164, 0.0006320476531982422, 0.84999999999999998, 0.75816993464052285)\n",
      "(0.00436091423034668, 0.0012180805206298828, 0.85285285285285284, 0.7814569536423841)\n",
      "(0.006333112716674805, 0.0017740726470947266, 0.86919831223628696, 0.75862068965517238)\n",
      "DecisionTreeClassifier\n",
      "(0.0007719993591308594, 0.00013899803161621094, 1.0, 0.67857142857142849)\n",
      "(0.0011641979217529297, 0.00013589859008789062, 1.0, 0.67226890756302526)\n",
      "(0.0017361640930175781, 0.0001399517059326172, 1.0, 0.71666666666666656)\n",
      "KNeighborsClassifier\n",
      "(0.0005738735198974609, 0.0010349750518798828, 0.82432432432432423, 0.6870229007633587)\n",
      "(0.0005090236663818359, 0.001383066177368164, 0.86708860759493667, 0.75362318840579712)\n",
      "(0.0006699562072753906, 0.001889944076538086, 0.87224669603524219, 0.74820143884892076)\n"
     ]
    }
   ],
   "source": [
    "# TODO: Import the four supervised learning models from sklearn\n",
    "from sklearn.naive_bayes import GaussianNB\n",
    "from sklearn.svm import SVC\n",
    "from sklearn.tree import DecisionTreeClassifier\n",
    "from sklearn.neighbors import KNeighborsClassifier\n",
    "\n",
    "# TODO: Initialize the models\n",
    "clf_A = GaussianNB()\n",
    "clf_B = SVC(random_state=0)\n",
    "clf_C = DecisionTreeClassifier(random_state=0)\n",
    "clf_D = KNeighborsClassifier()\n",
    "\n",
    "# TODO: Set up the training set sizes\n",
    "# make sure to randomly select samples to get the real training time\n",
    "import random\n",
    "random.seed(0)\n",
    "\n",
    "idx_100 = random.sample(X_train.index.values, 100)\n",
    "X_train_100 = X_train.loc[idx_100, :]\n",
    "y_train_100 = y_train[idx_100]\n",
    "\n",
    "idx_200 = random.sample(X_train.index.values, 200)\n",
    "X_train_200 = X_train.loc[idx_200, :]\n",
    "y_train_200 = y_train[idx_200]\n",
    "\n",
    "X_train_300 = X_train\n",
    "y_train_300 = y_train\n",
    "\n",
    "\n",
    "# TODO: Execute the 'train_predict' function for each classifier and each training set size\n",
    "clf_A_100 = train_predict(clf_A, X_train_100, y_train_100, X_test, y_test)\n",
    "clf_A_200 = train_predict(clf_A, X_train_200, y_train_200, X_test, y_test)\n",
    "clf_A_300 = train_predict(clf_A, X_train_300, y_train_300, X_test, y_test)\n",
    "\n",
    "clf_B_100 = train_predict(clf_B, X_train_100, y_train_100, X_test, y_test)\n",
    "clf_B_200 = train_predict(clf_B, X_train_200, y_train_200, X_test, y_test)\n",
    "clf_B_300 = train_predict(clf_B, X_train_300, y_train_300, X_test, y_test)\n",
    "\n",
    "clf_C_100 = train_predict(clf_C, X_train_100, y_train_100, X_test, y_test)\n",
    "clf_C_200 = train_predict(clf_C, X_train_200, y_train_200, X_test, y_test)\n",
    "clf_C_300 = train_predict(clf_C, X_train_300, y_train_300, X_test, y_test)\n",
    "\n",
    "clf_D_100 = train_predict(clf_D, X_train_100, y_train_100, X_test, y_test)\n",
    "clf_D_200 = train_predict(clf_D, X_train_200, y_train_200, X_test, y_test)\n",
    "clf_D_300 = train_predict(clf_D, X_train_300, y_train_300, X_test, y_test)\n",
    "\n",
    "print clf_A.__class__.__name__\n",
    "print clf_A_100\n",
    "print clf_A_200\n",
    "print clf_A_300\n",
    "\n",
    "print clf_B.__class__.__name__\n",
    "print clf_B_100\n",
    "print clf_B_200\n",
    "print clf_B_300\n",
    "\n",
    "print clf_C.__class__.__name__\n",
    "print clf_C_100\n",
    "print clf_C_200\n",
    "print clf_C_300\n",
    "\n",
    "print clf_D.__class__.__name__\n",
    "print clf_D_100\n",
    "print clf_D_200\n",
    "print clf_D_300"
   ]
  },
  {
   "cell_type": "markdown",
   "metadata": {},
   "source": [
    "### Tabular Results\n",
    "Edit the cell below to see how a table can be designed in [Markdown](https://github.com/adam-p/markdown-here/wiki/Markdown-Cheatsheet#tables). You can record your results from above in the tables provided."
   ]
  },
  {
   "cell_type": "markdown",
   "metadata": {},
   "source": [
    "** Classifer A - Gaussian Naive Bayes Classifier**  \n",
    "\n",
    "| Training Set Size | Training Time | Prediction Time (test) | F1 Score (train) | F1 Score (test) |\n",
    "| :---------------: | :---------------------: | :--------------------: | :--------------: | :-------------: |\n",
    "| 100               |       0.0014 sec        |       0.0002 sec       |      0.8467      |     0.7143      |\n",
    "| 200               |       0.0008 sec        |       0.0002 sec       |      0.8014      |     0.7591      |\n",
    "| 300               |       0.0007 sec        |       0.0003 sec       |      0.8088      |     0.7500      |\n",
    "\n",
    "** Classifer B - SVM Classifier**  \n",
    "\n",
    "| Training Set Size | Training Time | Prediction Time (test) | F1 Score (train) | F1 Score (test) |\n",
    "| :---------------: | :---------------------: | :--------------------: | :--------------: | :-------------: |\n",
    "| 100               |       0.0011 sec        |       0.0006 sec       |      0.8500      |     0.7582      |\n",
    "| 200               |       0.0043 sec        |       0.0012 sec       |      0.8529      |     0.7815      |\n",
    "| 300               |       0.0063 sec        |       0.0018 sec       |      0.8692      |     0.7586      |\n",
    "\n",
    "** Classifer C - Decission Tree Classifier**  \n",
    "\n",
    "| Training Set Size | Training Time | Prediction Time (test) | F1 Score (train) | F1 Score (test) |\n",
    "| :---------------: | :---------------------: | :--------------------: | :--------------: | :-------------: |\n",
    "| 100               |       0.0008 sec        |       0.0001 sec       |      1.0000      |     0.6786      |\n",
    "| 200               |       0.0012 sec        |       0.0001 sec       |      1.0000      |     0.6723      |\n",
    "| 300               |       0.0017 sec        |       0.0001 sec       |      1.0000      |     0.7167      |\n",
    "\n",
    "** Classifer D - k-Nearest Neighbors Classifier**  \n",
    "\n",
    "| Training Set Size | Training Time | Prediction Time (test) | F1 Score (train) | F1 Score (test) |\n",
    "| :---------------: | :---------------------: | :--------------------: | :--------------: | :-------------: |\n",
    "| 100               |       0.0006 sec        |       0.0010 sec       |      0.8243      |     0.6870      |\n",
    "| 200               |       0.0005 sec        |       0.0014 sec       |      0.8671      |     0.7536      |\n",
    "| 300               |       0.0007 sec        |       0.0019 sec       |      0.8722      |     0.7482      |"
   ]
  },
  {
   "cell_type": "markdown",
   "metadata": {},
   "source": [
    "## Choosing the Best Model\n",
    "In this final section, you will choose from the four supervised learning models the *best* model to use on the student data. You will then perform a grid search optimization for the model over the entire training set (`X_train` and `y_train`) by tuning at least one parameter to improve upon the untuned model's F<sub>1</sub> score. "
   ]
  },
  {
   "cell_type": "markdown",
   "metadata": {},
   "source": [
    "### Question 3 - Choosing the Best Model\n",
    "*Based on the experiments you performed earlier, in one to two paragraphs, explain to the board of supervisors what single model you chose as the best model. Which model is generally the most appropriate based on the available data, limited resources, cost, and performance?*"
   ]
  },
  {
   "cell_type": "markdown",
   "metadata": {},
   "source": [
    "Reorganize the results."
   ]
  },
  {
   "cell_type": "code",
   "execution_count": 8,
   "metadata": {
    "collapsed": false
   },
   "outputs": [],
   "source": [
    "training_time = {}\n",
    "training_time['GaussianNB'] = [clf_A_100[0], clf_A_200[0], clf_A_300[0]]\n",
    "training_time['SVC'] = [clf_B_100[0], clf_B_200[0], clf_B_300[0]]\n",
    "training_time['DT'] = [clf_C_100[0], clf_C_200[0], clf_C_300[0]]\n",
    "training_time['KNN'] = [clf_D_100[0], clf_D_200[0], clf_D_300[0]]\n",
    "\n",
    "predict_time = {}\n",
    "predict_time['GaussianNB'] = [clf_A_100[1], clf_A_200[1], clf_A_300[1]]\n",
    "predict_time['SVC'] = [clf_B_100[1], clf_B_200[1], clf_B_300[1]]\n",
    "predict_time['DT'] = [clf_C_100[1], clf_C_200[1], clf_C_300[1]]\n",
    "predict_time['KNN'] = [clf_D_100[1], clf_D_200[1], clf_D_300[1]]\n",
    "\n",
    "training_f1 = {}\n",
    "training_f1['GaussianNB'] = [clf_A_100[2], clf_A_200[2], clf_A_300[2]]\n",
    "training_f1['SVC'] = [clf_B_100[2], clf_B_200[2], clf_B_300[2]]\n",
    "training_f1['DT'] = [clf_C_100[2], clf_C_200[2], clf_C_300[2]]\n",
    "training_f1['KNN'] = [clf_D_100[2], clf_D_200[2], clf_D_300[2]]\n",
    "\n",
    "test_f1 = {}\n",
    "test_f1['GaussianNB'] = [clf_A_100[3], clf_A_200[3], clf_A_300[3]]\n",
    "test_f1['SVC'] = [clf_B_100[3], clf_B_200[3], clf_B_300[3]]\n",
    "test_f1['DT'] = [clf_C_100[3], clf_C_200[3], clf_C_300[3]]\n",
    "test_f1['KNN'] = [clf_D_100[3], clf_D_200[3], clf_D_300[3]]\n",
    "\n",
    "results = {}\n",
    "results['Training Time'] = training_time\n",
    "results['Prediction Time'] = predict_time\n",
    "results['Training F1 Score'] = training_f1\n",
    "results['Test F1 Score'] = test_f1"
   ]
  },
  {
   "cell_type": "markdown",
   "metadata": {},
   "source": [
    "Let's visualize the results."
   ]
  },
  {
   "cell_type": "code",
   "execution_count": 10,
   "metadata": {
    "collapsed": false
   },
   "outputs": [
    {
     "data": {
      "image/png": "[encoded data removed]",
      "text/plain": [
       "<matplotlib.figure.Figure at 0x1139cb6d0>"
      ]
     },
     "metadata": {},
     "output_type": "display_data"
    }
   ],
   "source": [
    "import matplotlib.pyplot as plt\n",
    "%matplotlib inline\n",
    "import seaborn as sns\n",
    "\n",
    "training_size = [100, 200, 300]\n",
    "models = ['GaussianNB', 'SVC', 'DT', 'KNN']\n",
    "metrics = ['Training Time', 'Prediction Time', 'Training F1 Score', 'Test F1 Score']\n",
    "\n",
    "fig = plt.figure(figsize=(16, 10))\n",
    "\n",
    "for k, metric in enumerate(metrics): \n",
    "    ax = fig.add_subplot(2, 2, k+1)\n",
    "    ax.plot(training_size, results[metric]['GaussianNB'], 'o-', color = 'r', label = 'GaussianNB')\n",
    "    ax.plot(training_size, results[metric]['SVC'], 'o-', color = 'g', label = 'SVC')\n",
    "    ax.plot(training_size, results[metric]['DT'], 'o-', color = 'b', label = 'DT')\n",
    "    ax.plot(training_size, results[metric]['KNN'], 'o-', color = 'y', label = 'KNN')\n",
    "\n",
    "    # Labels\n",
    "    ax.set_title('{} of All Models'.format(metric))\n",
    "    ax.set_xlabel('Training Set Size')\n",
    "    ax.set_ylabel(metric)\n",
    "    \n",
    "\n",
    "# Visual aesthetics\n",
    "ax.legend(bbox_to_anchor=(1.05, 2.05), loc='lower left', borderaxespad = 0.)\n",
    "fig.suptitle('Performances of All Models', fontsize = 16, y = 1.03)\n",
    "fig.tight_layout()\n",
    "fig.show()"
   ]
  },
  {
   "cell_type": "markdown",
   "metadata": {},
   "source": [
    "**Answer: **<br>\n",
    "The **DT** classifier is apparently overfitting because it classifies the training data perfectly, with a F1 score of 1.0 for the training set. Compared to the **KNN** classifier, both **SVM** classiifer and **NB** classifier have better performances. **SVC** has the longest training time and the second longest prediction time. **DT** and **NB** have constantly low training and prediction times. **KNN** has the shortest training time but the longest prediction time. Given that the dataset in this problem is relatively small, computational cost would not be the major concern. Therefore, we should go with **SVC** for its slightly better performance."
   ]
  },
  {
   "cell_type": "markdown",
   "metadata": {},
   "source": [
    "### Question 4 - Model in Layman's Terms\n",
    "*In one to two paragraphs, explain to the board of directors in layman's terms how the final model chosen is supposed to work. Be sure that you are describing the major qualities of the model, such as how the model is trained and how the model makes a prediction. Avoid using advanced mathematical or technical jargon, such as describing equations or discussing the algorithm implementation.*"
   ]
  },
  {
   "cell_type": "markdown",
   "metadata": {},
   "source": [
    "**Answer: **<br>\n",
    "The Support Vector Machine (SVM) classifier separates the data with boundaries called decision boundaries. In Fig.1 shown below, the decision boudary is the dotted line, L, in the middle of two solid lines, L1 and L2. Given a training set, SVM first determines the support vectors, which are the data points that lie closest to the decision boundary. In Fig.1 the support vectors are represented by L1 and L2. Then the decision boundary is placed where the distances between the boundary and the support vectors are maximized. As shown in Fig.1, the distances from L to L1, L2 are maximized. Once the decision boundary is determined, the data are separated into two classes, Positive and Negative in the case of Fig.1. After the training is done, the classes of test set can be predicted by the position of each test data point relative to the decision boundary."
   ]
  },
  {
   "cell_type": "markdown",
   "metadata": {},
   "source": [
    "[Fig.1 - A Two-Class SVM Classifier](https://www.researchgate.net/figure/262275456_fig4_Fig-4-A-Two-class-SVM-classifier)\n",
    "![A Two-class SVM classifier](https://www.researchgate.net/profile/Dawei_Li18/publication/262275456/figure/fig4/AS:296764058947585@1447765473602/Fig-4-A-Two-class-SVM-classifier.png \"A two-class SVM classifier\")"
   ]
  },
  {
   "cell_type": "markdown",
   "metadata": {},
   "source": [
    "The Fig.1 shows the case when data can be separated by a straight line. When the data can't be separated by a straight line, we can perform the kernel method to transform the data from non-linearly separable to linearly separable. See Fig.2, a kernel function $\\phi$ takes non-linearly separable input and map linearly separable output so that SVM can be applied to classifiy the data."
   ]
  },
  {
   "cell_type": "markdown",
   "metadata": {},
   "source": [
    "[Fig. 2 - Kernel Method](https://upload.wikimedia.org/wikipedia/commons/1/1b/Kernel_Machine.png)\n",
    "![Kernel Method](https://upload.wikimedia.org/wikipedia/commons/1/1b/Kernel_Machine.png \"Kernel Method\")"
   ]
  },
  {
   "cell_type": "markdown",
   "metadata": {},
   "source": [
    "### Implementation: Model Tuning\n",
    "Fine tune the chosen model. Use grid search (`GridSearchCV`) with at least one important parameter tuned with at least 3 different values. You will need to use the entire training set for this. In the code cell below, you will need to implement the following:\n",
    "- Import [`sklearn.grid_search.gridSearchCV`](http://scikit-learn.org/stable/modules/generated/sklearn.grid_search.GridSearchCV.html) and [`sklearn.metrics.make_scorer`](http://scikit-learn.org/stable/modules/generated/sklearn.metrics.make_scorer.html).\n",
    "- Create a dictionary of parameters you wish to tune for the chosen model.\n",
    " - Example: `parameters = {'parameter' : [list of values]}`.\n",
    "- Initialize the classifier you've chosen and store it in `clf`.\n",
    "- Create the F<sub>1</sub> scoring function using `make_scorer` and store it in `f1_scorer`.\n",
    " - Set the `pos_label` parameter to the correct value!\n",
    "- Perform grid search on the classifier `clf` using `f1_scorer` as the scoring method, and store it in `grid_obj`.\n",
    "- Fit the grid search object to the training data (`X_train`, `y_train`), and store it in `grid_obj`."
   ]
  },
  {
   "cell_type": "code",
   "execution_count": 12,
   "metadata": {
    "collapsed": false
   },
   "outputs": [
    {
     "name": "stdout",
     "output_type": "stream",
     "text": [
      "Tuned model has a training F1 score of 0.8434.\n",
      "Tuned model has a testing F1 score of 0.7862.\n",
      "\n",
      "Tuned model: SVC(C=10, cache_size=200, class_weight=None, coef0=0.0,\n",
      "  decision_function_shape=None, degree=3, gamma=0.001, kernel='rbf',\n",
      "  max_iter=-1, probability=False, random_state=0, shrinking=True,\n",
      "  tol=0.001, verbose=False)\n"
     ]
    }
   ],
   "source": [
    "# TODO: Import 'GridSearchCV' and 'make_scorer'\n",
    "from sklearn.grid_search import GridSearchCV\n",
    "from sklearn.metrics import make_scorer\n",
    "\n",
    "# TODO: Create the parameters list you wish to tune\n",
    "parameters = {'kernel':('linear','rbf'),\n",
    "              'C':(0.01, 0.1, 1, 10),\n",
    "              'gamma': (0.00001, 0.0001, 0.0005, 0.001, 0.005, 0.01, 0.1),\n",
    "              'class_weight': (None, 'balanced')}\n",
    "\n",
    "# TODO: Initialize the classifier\n",
    "clf = SVC(random_state=0)\n",
    "\n",
    "# TODO: Make an f1 scoring function using 'make_scorer' \n",
    "f1_scorer = make_scorer(f1_score, pos_label='yes')\n",
    "\n",
    "# TODO: Perform grid search on the classifier using the f1_scorer as the scoring method\n",
    "grid_obj = GridSearchCV(clf, parameters, scoring=f1_scorer)\n",
    "\n",
    "# TODO: Fit the grid search object to the training data and find the optimal parameters\n",
    "grid_obj.fit(X_train, y_train)\n",
    "\n",
    "# Get the estimator\n",
    "clf = grid_obj.best_estimator_\n",
    "\n",
    "# Report the final F1 score for training and testing after parameter tuning\n",
    "print \"Tuned model has a training F1 score of {:.4f}.\".format(predict_labels(clf, X_train, y_train)[1])\n",
    "print \"Tuned model has a testing F1 score of {:.4f}.\".format(predict_labels(clf, X_test, y_test)[1])\n",
    "print \"\\nTuned model: {}\".format(clf)"
   ]
  },
  {
   "cell_type": "markdown",
   "metadata": {},
   "source": [
    "### Question 5 - Final F<sub>1</sub> Score\n",
    "*What is the final model's F<sub>1</sub> score for training and testing? How does that score compare to the untuned model?*"
   ]
  },
  {
   "cell_type": "markdown",
   "metadata": {},
   "source": [
    "**Answer: **<br>\n",
    "\n",
    "| Model | F1 Score (train) | F1 Score (test) |\n",
    "| :---------------: | :--------------: | :-------------: |\n",
    "| Untuned           |      0.8692      |     0.7586      |\n",
    "| Tuned             |      0.8434      |     0.7862      |\n",
    "\n",
    "Tuned model gives lower training F1 score but higher test F1 score."
   ]
  },
  {
   "cell_type": "markdown",
   "metadata": {},
   "source": [
    "> **Note**: Once you have completed all of the code implementations and successfully answered each question above, you may finalize your work by exporting the iPython Notebook as an HTML document. You can do this by using the menu above and navigating to  \n",
    "**File -> Download as -> HTML (.html)**. Include the finished document along with this notebook as your submission."
   ]
  }
 ],
 "metadata": {
  "kernelspec": {
   "display_name": "Python 2",
   "language": "python",
   "name": "python2"
  },
  "language_info": {
   "codemirror_mode": {
    "name": "ipython",
    "version": 2
   },
   "file_extension": ".py",
   "mimetype": "text/x-python",
   "name": "python",
   "nbconvert_exporter": "python",
   "pygments_lexer": "ipython2",
   "version": "2.7.11"
  }
 },
 "nbformat": 4,
 "nbformat_minor": 0
}
